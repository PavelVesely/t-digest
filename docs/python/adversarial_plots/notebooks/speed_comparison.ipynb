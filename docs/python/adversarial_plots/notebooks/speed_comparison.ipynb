{
 "cells": [
  {
   "cell_type": "code",
   "execution_count": 1,
   "metadata": {},
   "outputs": [],
   "source": [
    "import os\n",
    "import pandas as pd\n",
    "import matplotlib.pyplot as plt"
   ]
  },
  {
   "cell_type": "code",
   "execution_count": 2,
   "metadata": {},
   "outputs": [],
   "source": [
    "RESULTS_LOCATION  = '../../../../data/results/'\n",
    "IMG_LOCATION = '../images/'"
   ]
  },
  {
   "cell_type": "code",
   "execution_count": 3,
   "metadata": {},
   "outputs": [],
   "source": [
    "laziness = 'speedComparison-laziness_LgNmax=30_ReqK=4_ReqKmax=50.csv'\n",
    "comparison_table = 'speedComparison_LgNmin=20_LgNmax=30_Compr=500_Scale=K_2_GLUED_ReqK=4.csv'"
   ]
  },
  {
   "cell_type": "code",
   "execution_count": 4,
   "metadata": {},
   "outputs": [
    {
     "data": {
      "text/html": [
       "<div>\n",
       "<style scoped>\n",
       "    .dataframe tbody tr th:only-of-type {\n",
       "        vertical-align: middle;\n",
       "    }\n",
       "\n",
       "    .dataframe tbody tr th {\n",
       "        vertical-align: top;\n",
       "    }\n",
       "\n",
       "    .dataframe thead th {\n",
       "        text-align: right;\n",
       "    }\n",
       "</style>\n",
       "<table border=\"1\" class=\"dataframe\">\n",
       "  <thead>\n",
       "    <tr style=\"text-align: right;\">\n",
       "      <th></th>\n",
       "      <th>lgN</th>\n",
       "      <th>merging</th>\n",
       "      <th>clustering</th>\n",
       "      <th>ReqSketch</th>\n",
       "      <th>KLL</th>\n",
       "    </tr>\n",
       "  </thead>\n",
       "  <tbody>\n",
       "    <tr>\n",
       "      <th>6</th>\n",
       "      <td>26</td>\n",
       "      <td>109.06</td>\n",
       "      <td>228.64</td>\n",
       "      <td>57.21</td>\n",
       "      <td>49.62</td>\n",
       "    </tr>\n",
       "    <tr>\n",
       "      <th>7</th>\n",
       "      <td>27</td>\n",
       "      <td>105.55</td>\n",
       "      <td>234.82</td>\n",
       "      <td>55.91</td>\n",
       "      <td>42.71</td>\n",
       "    </tr>\n",
       "    <tr>\n",
       "      <th>8</th>\n",
       "      <td>28</td>\n",
       "      <td>99.90</td>\n",
       "      <td>223.64</td>\n",
       "      <td>55.60</td>\n",
       "      <td>42.05</td>\n",
       "    </tr>\n",
       "    <tr>\n",
       "      <th>9</th>\n",
       "      <td>29</td>\n",
       "      <td>99.86</td>\n",
       "      <td>221.75</td>\n",
       "      <td>59.05</td>\n",
       "      <td>45.20</td>\n",
       "    </tr>\n",
       "    <tr>\n",
       "      <th>10</th>\n",
       "      <td>30</td>\n",
       "      <td>109.11</td>\n",
       "      <td>229.08</td>\n",
       "      <td>55.09</td>\n",
       "      <td>41.92</td>\n",
       "    </tr>\n",
       "  </tbody>\n",
       "</table>\n",
       "</div>"
      ],
      "text/plain": [
       "    lgN  merging  clustering  ReqSketch    KLL\n",
       "6    26   109.06      228.64      57.21  49.62\n",
       "7    27   105.55      234.82      55.91  42.71\n",
       "8    28    99.90      223.64      55.60  42.05\n",
       "9    29    99.86      221.75      59.05  45.20\n",
       "10   30   109.11      229.08      55.09  41.92"
      ]
     },
     "execution_count": 4,
     "metadata": {},
     "output_type": "execute_result"
    }
   ],
   "source": [
    "with open(RESULTS_LOCATION + comparison_table) as f:\n",
    "    df_c = pd.read_csv(f, header=0, sep=';')\n",
    "\n",
    "    \n",
    "# the paper shows row 10, i.e. the times for lgN=30\n",
    "df_c.tail()"
   ]
  },
  {
   "cell_type": "code",
   "execution_count": 5,
   "metadata": {},
   "outputs": [
    {
     "data": {
      "image/png": "[encoded data removed]",
      "text/plain": [
       "<Figure size 432x288 with 1 Axes>"
      ]
     },
     "metadata": {
      "needs_background": "light"
     },
     "output_type": "display_data"
    }
   ],
   "source": [
    "with open(RESULTS_LOCATION + laziness) as f:\n",
    "    df = pd.read_csv(f, header=0, sep=';',)\n",
    "    \n",
    "    \n",
    "x_axis = df.columns[0]\n",
    "plt.plot(df[x_axis], df[df.columns[1]], linestyle='solid', label=df.columns[1])\n",
    "plt.plot(df[x_axis], df[df.columns[2]], linestyle='dashed', label=df.columns[2])\n",
    "plt.xlabel('k')\n",
    "plt.ylabel('update time [ns]')\n",
    "plt.legend()\n",
    "\n",
    "\n",
    "# Average update time of ReqSketch in nanoseconds\n",
    "plt.savefig(IMG_LOCATION + 'plot_' + laziness + '.png', dpi=300)\n",
    "plt.show()"
   ]
  }
 ],
 "metadata": {
  "kernelspec": {
   "display_name": "Python 3",
   "language": "python",
   "name": "python3"
  },
  "language_info": {
   "codemirror_mode": {
    "name": "ipython",
    "version": 3
   },
   "file_extension": ".py",
   "mimetype": "text/x-python",
   "name": "python",
   "nbconvert_exporter": "python",
   "pygments_lexer": "ipython3",
   "version": "3.7.7"
  }
 },
 "nbformat": 4,
 "nbformat_minor": 4
}
